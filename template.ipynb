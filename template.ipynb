{
 "cells": [
  {
   "cell_type": "markdown",
   "metadata": {},
   "source": [
    "# Ejercicio de Postulación - Área de Interrogaciones"
   ]
  },
  {
   "cell_type": "markdown",
   "metadata": {},
   "source": [
    "Nombre: Joaquin Bachler\n",
    "\n",
    "Email: jabachler@uc.cl\n",
    "\n",
    "Telegram: canija2000"
   ]
  },
  {
   "cell_type": "markdown",
   "metadata": {},
   "source": [
    "## Código solución (NO MODIFICAR)"
   ]
  },
  {
   "cell_type": "code",
   "execution_count": 1,
   "metadata": {},
   "outputs": [],
   "source": [
    "#code.py\n",
    "def obtener_proximos(partidos, equipo):\n",
    "    equipos = []\n",
    "    ex_rivales = []\n",
    "    for partido in partidos:\n",
    "        if partido[0] not in equipos:\n",
    "            equipos.append(partido[0])\n",
    "        if partido[1] not in equipos:\n",
    "            equipos.append(partido[1])\n",
    "        if equipo == partido[0]:\n",
    "            ex_rivales.append(partido[1])\n",
    "        if equipo == partido[1]:\n",
    "            ex_rivales.append(partido[0])\n",
    "    pendientes = []\n",
    "    for rival in equipos:\n",
    "        if rival not in ex_rivales:\n",
    "            pendientes.append(rival)\n",
    "    return pendientes\n"
   ]
  },
  {
   "cell_type": "markdown",
   "metadata": {},
   "source": [
    "## Runner Personalizado (Opcional Modificar) "
   ]
  },
  {
   "cell_type": "markdown",
   "metadata": {},
   "source": [
    "Se tendra en consideración si logran hacer que los outputs sean iguales (solo modificando el runner) independiente del orden en que retornen los elementos en la lista."
   ]
  },
  {
   "cell_type": "code",
   "execution_count": 2,
   "metadata": {},
   "outputs": [],
   "source": [
    "from functools import partial\n",
    "\n",
    "def obtener_proximos_modificada(func_original, partidos, equipo):\n",
    "    resultado = func_original(partidos, equipo)\n",
    "    # Cambiar Comportamiento de la función original (opcional)\n",
    "    return resultado\n",
    "\n",
    "# Con esto reescribimos la función original para capturar el capturar resultado del alumno y modificarlo si es necesario\n",
    "obtener_proximos = partial(obtener_proximos_modificada, obtener_proximos)\n"
   ]
  },
  {
   "cell_type": "markdown",
   "metadata": {},
   "source": [
    "## Enunciado"
   ]
  },
  {
   "cell_type": "markdown",
   "metadata": {},
   "source": [
    "## Objetivo \n",
    "\n",
    "Te llamaron de la liga de Deportes Competitivos Chilenos (DCC), quieren implementar un sistema que les permita saber qué equipos jugarán en la próxima fecha, dado un listado de partidos jugados. La DCC organiza diferentes deportes, y en general, cada deporte o tiene equipos o jugadores (individuales) que juegan entre sí.\n",
    "\n",
    "Tu objetivo será implementar una funcion que, dado un listado de partidos (ya jugados), y un equipo (o jugador), retorne una lista con los equipos (o jugadores) que jugarán contra el equipo (o jugador) dado en la próxima fecha (dado que no han jugado aún con este).\n",
    "\n",
    "\n",
    "## Ejemplo\n",
    "\n",
    "#### Input \n",
    "```python\n",
    "partidos = [\n",
    "   [\"Guajiros\", \"Los Leones\"],\n",
    "   [\"Los Tigres\", \"Guajiros\"],\n",
    "]\n",
    "equipo = \"Los Leones\"\n",
    "\n",
    "``` \n",
    "#### Output\n",
    "\n",
    "```python\n",
    "['Los Tigres','Los Leones']\n",
    "\n",
    "```\n",
    "\n",
    "### Explicación\n",
    "Observemos que los partidos jugados son:\n",
    "\n",
    "- Guajiros vs Los Leones\n",
    "- Los Tigres vs Guajiros   \n",
    "\n",
    "Por lo tanto, el equipo \"Los Leones\" no ha jugado contra \"Los Tigres\". \n",
    "Aquí hace falta hacer una pequeña aclaración, el equipo \"Los Leones\" no ha jugado contra sí mismo, por lo que también se incluye en la lista de retorno. Es decir :\n",
    "\n",
    " **La función siempre retornará al equipo en cuestión (en el ejemplo \"Los Leones\") como parte de la lista de retorno sí y solo sí el equipo se encuentra dentro de los partidos ya jugados, de lo contrario no se incluirá.**\n",
    "\n",
    " Por ejemplo :\n",
    "\n",
    "````python\n",
    "partidos = [\n",
    "   [\"Guajiros\", \"Los Tigres\"],\n",
    "]\n",
    "equipo = \"Los Leones\"\n",
    "````\n",
    "#### Output\n",
    "```python\n",
    "['Guajiros', 'Los Tigres']\n",
    "```"
   ]
  },
  {
   "cell_type": "markdown",
   "metadata": {},
   "source": [
    "## Testcases"
   ]
  },
  {
   "cell_type": "markdown",
   "metadata": {},
   "source": [
    "### Testcase 1"
   ]
  },
  {
   "cell_type": "markdown",
   "metadata": {},
   "source": [
    "#### Input"
   ]
  },
  {
   "cell_type": "code",
   "execution_count": 8,
   "metadata": {},
   "outputs": [],
   "source": [
    "partidos = [\n",
    "   [\"Guajiros\", \"Los Leones\"],\n",
    "\n",
    "   [\"Los Tigres\", \"Guajiros\"],\n",
    "]\n",
    "equipo = \"Los Leones\"\n"
   ]
  },
  {
   "cell_type": "markdown",
   "metadata": {},
   "source": [
    "#### Output"
   ]
  },
  {
   "cell_type": "code",
   "execution_count": null,
   "metadata": {},
   "outputs": [],
   "source": [
    "['Los Leones', 'Los Tigres']"
   ]
  },
  {
   "cell_type": "markdown",
   "metadata": {},
   "source": [
    "### Testcase 2"
   ]
  },
  {
   "cell_type": "markdown",
   "metadata": {},
   "source": [
    "#### Input"
   ]
  },
  {
   "cell_type": "code",
   "execution_count": 9,
   "metadata": {},
   "outputs": [],
   "source": [
    "partidos = [\n",
    "[ 'Equipo A', 'Equipo B' ],\n",
    "]\n",
    "\n",
    "equipo = 'Equipo C'\n"
   ]
  },
  {
   "cell_type": "markdown",
   "metadata": {},
   "source": [
    "#### Output"
   ]
  },
  {
   "cell_type": "code",
   "execution_count": null,
   "metadata": {},
   "outputs": [],
   "source": [
    "['Equipo A', 'Equipo B']"
   ]
  },
  {
   "cell_type": "markdown",
   "metadata": {},
   "source": [
    "### Testcase 3"
   ]
  },
  {
   "cell_type": "markdown",
   "metadata": {},
   "source": [
    "#### Input"
   ]
  },
  {
   "cell_type": "code",
   "execution_count": 12,
   "metadata": {},
   "outputs": [],
   "source": [
    "partidos = [\n",
    "    ['Chile', 'Argentina'],\n",
    "    ['Argentina', 'Brasil'],\n",
    "    ['Brasil', 'Chile'],\n",
    "    ['Chile', 'Perú'],\n",
    "    ['Perú', 'Argentina'],\n",
    "    ['Perú', 'Colombia'],\n",
    "    ['Colombia', 'Chile'],\n",
    "    ['Colombia', 'Argentina'],\n",
    "    ['Colombia', 'Brasil'],\n",
    "    ['Colombia', 'Perú'],\n",
    "    ['Colombia', 'Venezuela'],\n",
    "]\n",
    "\n",
    "equipo = 'Perú'"
   ]
  },
  {
   "cell_type": "markdown",
   "metadata": {},
   "source": [
    "#### Output"
   ]
  },
  {
   "cell_type": "code",
   "execution_count": null,
   "metadata": {},
   "outputs": [],
   "source": [
    "['Brasil', 'Perú', 'Venezuela']"
   ]
  }
 ],
 "metadata": {
  "kernelspec": {
   "display_name": "condaenv",
   "language": "python",
   "name": "python3"
  },
  "language_info": {
   "codemirror_mode": {
    "name": "ipython",
    "version": 3
   },
   "file_extension": ".py",
   "mimetype": "text/x-python",
   "name": "python",
   "nbconvert_exporter": "python",
   "pygments_lexer": "ipython3",
   "version": "3.12.4"
  }
 },
 "nbformat": 4,
 "nbformat_minor": 4
}
